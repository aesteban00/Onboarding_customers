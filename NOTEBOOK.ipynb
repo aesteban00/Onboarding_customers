{
 "cells": [
  {
   "attachments": {},
   "cell_type": "markdown",
   "metadata": {},
   "source": [
    "# Lab 1 - Exercise 1 - Create connection and run simple queries\n"
   ]
  },
  {
   "cell_type": "code",
   "execution_count": null,
   "metadata": {},
   "outputs": [],
   "source": [
    "############################## CREATE MongoDB Atlas connection ##############################\n",
    "import pymongo\n",
    "from pprint import pprint\n",
    "\n",
    "import sys\n",
    "sys.path.append(\"../config.py\")\n",
    "import config as cfg\n",
    "\n",
    "# Connect to Atlas\n",
    "client = pymongo.MongoClient(cfg.CONNECTIONSTRING)\n",
    "db = client[cfg.DB]\n",
    "coll = db[cfg.COLL]\n",
    "\n",
    "############################## Connection TEST ##############################\n",
    "# Show the fields \"documentNumber\", \"country\" and \"segmentTypeLocal\" of 2 documents WHERE the field \"segmentTypeLocal\" is not NULL\n",
    "#\n",
    "query = {\"firstName\": {'$nin': [\"null\", \"\"]}}\n",
    "project = {\"_id\": 0, \"firstName\": 1, \"documentNumber\": 1, \"country\": 1}\n",
    "\n",
    "cursor = coll.find(query,project).limit(2)\n",
    "\n",
    "pprint('------- 2 samples of customers: ')\n",
    "for document in cursor:\n",
    "    pprint(document)\n",
    "\n",
    "# Count the number of documents in the collection\n",
    "count = coll.count_documents({})\n",
    "print('------- Total number of documents in the collection: ')\n",
    "print(count)\n",
    "\n"
   ]
  },
  {
   "attachments": {},
   "cell_type": "markdown",
   "metadata": {},
   "source": [
    "# Lab 1 - Exercise 2 - Run simple Aggregation Pipeline "
   ]
  },
  {
   "cell_type": "code",
   "execution_count": null,
   "metadata": {},
   "outputs": [],
   "source": [
    "############################## simple AGGREGATON pipeline #############################\n",
    "from bson.son import SON\n",
    "\n",
    "pipeline = [\n",
    "    {\"$match\": {\"lastName\": 'Evelyn'}},\n",
    "    {\"$sort\": SON([(\"documentNumber\", -1)])},\n",
    "    {\"$project\": {\"_id\": 0, \"firstName\": 1,\"lastName\": 1, \"documentNumber\": 1, \"country\": 1}},\n",
    "    {\"$limit\": 5}\n",
    "]\n",
    "\n",
    "print('------- 5 samples of customers with lastName Evelyn and sort by documentNumber: ')\n",
    "cursor = coll.aggregate(pipeline)\n",
    "for document in cursor:\n",
    "    pprint(document)\n",
    "#pprint(list(coll.aggregate(pipeline)))"
   ]
  },
  {
   "attachments": {},
   "cell_type": "markdown",
   "metadata": {},
   "source": [
    "# Lab 1 - Challenge\n",
    "\n",
    "Modify the previous Aggregation Pipeline to find the Customer with \"lastName=Evelyn\" AND \"country=C1\" and send me the first 4 docs with the field \"segmentLocal\" included.\n",
    "\n"
   ]
  },
  {
   "attachments": {},
   "cell_type": "markdown",
   "metadata": {},
   "source": [
    "# Lab 2 - Exercise 1: Documents fields conversion, count documents to change"
   ]
  },
  {
   "cell_type": "code",
   "execution_count": null,
   "metadata": {},
   "outputs": [],
   "source": [
    "############################## find docs to change ##############################\n",
    "\n",
    "cursor = coll.find({'companyStartDate': {'$exists': True, '$type': 'string'}},{\"documentNumber\": 1, \"country\": 1, \"companyStartDate\": 1}).limit(2)\n",
    "for document in cursor:\n",
    "    pprint(document)\n",
    "count = coll.count_documents({'companyStartDate': {'$exists': True, '$type': 'string'}})\n",
    "print('Number of documents to change: ' + str(count))"
   ]
  },
  {
   "attachments": {},
   "cell_type": "markdown",
   "metadata": {},
   "source": [
    "# Lab 2 - Exercise 2: Document fields conversion, from String to Date"
   ]
  },
  {
   "cell_type": "code",
   "execution_count": null,
   "metadata": {},
   "outputs": [],
   "source": [
    "############################## change String fields to Date fields  #############################\n",
    "#result3 = coll.update_many({'companyStartDate': {'$exists': True, '$type': 'string'}}, [{'$set': {'companyStartDate': { '$toDate': '$companyStartDate'}}}])\n",
    "#print(result3.raw_result)\n",
    "\n",
    "#result4 = coll.update_many({'companyEndDate': {'$exists': True, '$type': 'string'}}, [{'$set': {'companyEndDate': { '$toDate': '$companyEndDate'}}}])\n",
    "#print(result4.raw_result)\n",
    "\n",
    "result = coll.update_many({'$or': [{'companyStartDate': {'$exists': True, '$type': 'string'}},{'companyEndDate': {'$exists': True, '$type': 'string'}}]}, [{'$set': {'companyStartDate': { '$toDate': '$companyStartDate'}}},{'$set': {'companyEndDate': { '$toDate': '$companyEndDate'}}}])\n",
    "print(result.raw_result)\n"
   ]
  },
  {
   "cell_type": "code",
   "execution_count": null,
   "metadata": {},
   "outputs": [],
   "source": [
    "############################## check Date fields ##############################\n",
    "\n",
    "cursor = coll.find({'companyStartDate': {'$exists': True, '$type': 'date'}},{\"documentNumber\": 1, \"country\": 1, \"companyStartDate\": 1}).limit(2)\n",
    "for document in cursor:\n",
    "    pprint(document)"
   ]
  },
  {
   "attachments": {},
   "cell_type": "markdown",
   "metadata": {},
   "source": [
    "# Lab 2 - Exercise 3: Find Customers between dates (note that no index is used)"
   ]
  },
  {
   "cell_type": "code",
   "execution_count": null,
   "metadata": {},
   "outputs": [],
   "source": [
    "############################## find docs to change ##############################\n",
    "from datetime import datetime\n",
    "\n",
    "# convert your date string to datetime object\n",
    "start = datetime(1995, 1, 20, 7, 51, 59)\n",
    "end = datetime(1996, 1, 20, 7, 52, 59)\n",
    "\n",
    "cursor = coll.find({\"companyStartDate\":{'$gte':start,'$lt':end}},{\"documentNumber\": 1, \"country\": 1, \"companyStartDate\": 1}).limit(2)\n",
    "for document in cursor:\n",
    "    pprint(document)\n",
    "\n",
    "count = coll.count_documents({\"companyStartDate\":{'$gte':start,'$lt':end}})\n",
    "pprint(count)\n"
   ]
  },
  {
   "attachments": {},
   "cell_type": "markdown",
   "metadata": {},
   "source": [
    "# Lab 2 - Exercise 4: Create a new field for all documents (498.825) with the days in the company"
   ]
  },
  {
   "cell_type": "code",
   "execution_count": null,
   "metadata": {},
   "outputs": [],
   "source": [
    "############################## create NEW FIELD (duration_days) with days in the company  ##############################\n",
    "cursor = coll.update_many(\n",
    "      {},\n",
    "      [ { \"$set\" : {\n",
    "        \"duration_days\" : {'$dateDiff': {'startDate': '$companyStartDate','endDate': '$companyEndDate','unit': 'day'}}\n",
    "      } } ]\n",
    "    )\n",
    "pprint(cursor.raw_result)"
   ]
  },
  {
   "attachments": {},
   "cell_type": "markdown",
   "metadata": {},
   "source": [
    "# Lab 2 - Exercise 5: Operator $group from Aggregation Pipeline"
   ]
  },
  {
   "cell_type": "code",
   "execution_count": null,
   "metadata": {},
   "outputs": [],
   "source": [
    "result = coll.aggregate([\n",
    "    {\n",
    "        '$set': {\n",
    "            'companyEndDate': {\n",
    "                '$toDate': '$companyEndDate'\n",
    "            }, \n",
    "            'companyStartDate': {\n",
    "                '$toDate': '$companyStartDate'\n",
    "            }\n",
    "        }\n",
    "    }, {\n",
    "        '$group': {\n",
    "            '_id': {\n",
    "                '$year': '$companyStartDate'\n",
    "            }, \n",
    "            'numberofcompanies': {\n",
    "                '$sum': 1\n",
    "            }\n",
    "        }\n",
    "    }, {\n",
    "        '$sort': {\n",
    "            '_id': -1\n",
    "        }\n",
    "    }, {\n",
    "        '$set': {\n",
    "            'creationyear': '$_id'\n",
    "        }\n",
    "    }, {\n",
    "        '$project': {\n",
    "            'creationyear': 1, \n",
    "            'numberofcompanies': 1, \n",
    "            '_id': 0\n",
    "        }\n",
    "    }\n",
    "])\n",
    "for doc in result:\n",
    "    print(doc)\n"
   ]
  },
  {
   "attachments": {},
   "cell_type": "markdown",
   "metadata": {},
   "source": [
    "# Lab 2 - Challenge\n",
    "\n",
    "Count the number of Open accounts per documentNumber and send me the first two with more Open accounts.\n",
    "It should look like:\n",
    "\n",
    "```\n",
    "{\n",
    "  \"_id\": {\n",
    "    \"accountsList_status\": \"Open\",\n",
    "    \"documentNumber\": \"0016124399K\"\n",
    "  },\n",
    "  \"counter\": 240\n",
    "},\n",
    "{\n",
    "  \"_id\": {\n",
    "    \"accountsList_status\": \"Open\",\n",
    "    \"documentNumber\": \"00234740636\"\n",
    "  },\n",
    "  \"counter\": 240\n",
    "}\n",
    "```\n",
    "\n",
    "CLUE: https://www.mongodb.com/docs/manual/reference/operator/aggregation/unwind/"
   ]
  },
  {
   "attachments": {},
   "cell_type": "markdown",
   "metadata": {},
   "source": [
    "## *** Go back for Lab 3 instructions in README.md file***"
   ]
  },
  {
   "attachments": {},
   "cell_type": "markdown",
   "metadata": {},
   "source": [
    "## *** BONUS : Graph Capabilities ***\n",
    "MongoDB provides graph and tree traversal capabilities with its $graphLookup stage in the aggregation pipeline.\n",
    "In this section we are going to modify the dataset to create relation between documents and then execute an aggregation pipeline using $graphLookup to show these interactions\n",
    "\n",
    "The graphical representation look like the following image:\n",
    "\n",
    "<img src=\"./img/graphLookup.png\" alt=\"drawing\" width=\"800\"/>"
   ]
  },
  {
   "cell_type": "code",
   "execution_count": null,
   "metadata": {},
   "outputs": [],
   "source": [
    "############################## Modify the dataset to create relationships  ##############################\n",
    "document = coll.find_one({'$and' : [{'segmentLocal' : 'GRANDES EMPRESAS'}, {'companyName': 'COML KAUFMANN S A'}, {'country' : 'CL'}]})\n",
    "cursor = coll.update_one(\n",
    "      {'_id' : document['_id']},\n",
    "      [ { \"$set\" : {\n",
    "        \"companyName\" : \"VEHICLES SA\",\n",
    "        \"tradeName\" : 'VOLVO'\n",
    "      } } ]\n",
    "    )\n",
    "pprint(cursor.raw_result)\n",
    "\n",
    "document = coll.find_one({'$and' : [{'segmentLocal' : 'GRANDES EMPRESAS'}, {'companyName': 'COML KAUFMANN S A'}, {'country' : 'CL'}]})\n",
    "cursor = coll.update_one(\n",
    "      {'_id' : document['_id']},\n",
    "      [ { \"$set\" : {\n",
    "        \"companyName\" : \"VEHICLES SA\",\n",
    "        \"tradeName\" : 'MERCEDES BENZ'\n",
    "      } } ]\n",
    "    )\n",
    "pprint(cursor.raw_result)\n",
    "\n",
    "document = coll.find_one({'$and' : [{'segmentLocal' : 'GRANDES EMPRESAS'}, {'companyName': 'COML KAUFMANN S A'}, {'country' : 'CL'}]})\n",
    "cursor = coll.update_one(\n",
    "      {'_id' : document['_id']},\n",
    "      [ { \"$set\" : {\n",
    "        \"companyName\" : \"MERCEDES BENZ\",\n",
    "        \"tradeName\" : 'SMART'\n",
    "      } } ]\n",
    "    )\n",
    "pprint(cursor.raw_result)\n",
    "\n",
    "document = coll.find_one({'$and' : [{'segmentLocal' : 'GRANDES EMPRESAS'}, {'companyName': 'COML KAUFMANN S A'}, {'country' : 'CL'}]})\n",
    "cursor = coll.update_one(\n",
    "      {'_id' : document['_id']},\n",
    "      [ { \"$set\" : {\n",
    "        \"companyName\" : \"VOLVO\",\n",
    "        \"tradeName\" : 'VOLVO TRUCKS'\n",
    "      } } ]\n",
    "    )\n",
    "pprint(cursor.raw_result)\n",
    "\n",
    "document = coll.find_one({'$and' : [{'segmentLocal' : 'GRANDES EMPRESAS'}, {'companyName': 'COML KAUFMANN S A'}, {'country' : 'CL'}]})\n",
    "cursor = coll.update_one(\n",
    "      {'_id' : document['_id']},\n",
    "      [ { \"$set\" : {\n",
    "        \"companyName\" : \"VOLVO TRUCKS\",\n",
    "        \"tradeName\" : 'VOLVO BIG TRUCKS'\n",
    "      } } ]\n",
    "    )\n",
    "pprint(cursor.raw_result)"
   ]
  },
  {
   "cell_type": "code",
   "execution_count": null,
   "metadata": {},
   "outputs": [],
   "source": [
    "############################## Execute $graphLookup  ##############################\n",
    "\n",
    "aggregation_pipeline = [\n",
    "    {\n",
    "        '$project': {\n",
    "            'firstName': 1, \n",
    "            'lastName': 1, \n",
    "            'companyName': 1, \n",
    "            'tradeName': 1\n",
    "        }\n",
    "    }, {\n",
    "        '$graphLookup': {\n",
    "            'from': 'Customer', \n",
    "            'startWith': '$tradeName', \n",
    "            'connectFromField': 'tradeName', \n",
    "            'connectToField': 'companyName', \n",
    "            'as': 'tradesAs', \n",
    "            'maxDepth': 2\n",
    "        }\n",
    "    }, {\n",
    "        '$project': {\n",
    "            'companyName': 1, \n",
    "            'tradeName': 1, \n",
    "            'tradesAs.tradeName': 1\n",
    "        }\n",
    "    }, {\n",
    "        '$match': {\n",
    "            'companyName': 'VEHICLES SA'\n",
    "        }\n",
    "    }\n",
    "]\n",
    "result = coll.aggregate(aggregation_pipeline)\n",
    "for doc in result:\n",
    "    print(doc)"
   ]
  }
 ],
 "metadata": {
  "kernelspec": {
   "display_name": "Python 3",
   "language": "python",
   "name": "python3"
  },
  "language_info": {
   "codemirror_mode": {
    "name": "ipython",
    "version": 3
   },
   "file_extension": ".py",
   "mimetype": "text/x-python",
   "name": "python",
   "nbconvert_exporter": "python",
   "pygments_lexer": "ipython3",
   "version": "3.9.6 (default, Oct 18 2022, 12:41:40) \n[Clang 14.0.0 (clang-1400.0.29.202)]"
  },
  "orig_nbformat": 4,
  "vscode": {
   "interpreter": {
    "hash": "31f2aee4e71d21fbe5cf8b01ff0e069b9275f58929596ceb00d14d90e3e16cd6"
   }
  }
 },
 "nbformat": 4,
 "nbformat_minor": 2
}
